{
 "cells": [
  {
   "cell_type": "code",
   "execution_count": 1,
   "metadata": {},
   "outputs": [],
   "source": [
    "import numpy as np\n",
    "import matplotlib.pyplot as plt\n",
    "\n",
    "%matplotlib inline\n",
    "\n",
    "plt.rcParams[\"figure.figsize\"] = (10,5)"
   ]
  },
  {
   "cell_type": "markdown",
   "metadata": {},
   "source": [
    "1. Измените функцию `calc_logloss` так, чтобы нули по возможности не попадали в `np.log` (как вариант - использовать `np.clip` или `np.where`)."
   ]
  },
  {
   "cell_type": "code",
   "execution_count": 2,
   "metadata": {},
   "outputs": [],
   "source": [
    "def calc_logloss(y, p):\n",
    "    \"\"\"логистическая функция потерь\"\"\"\n",
    "    eps = 1e-15\n",
    "    p_ = np.clip(p, eps, 1.0 - eps)\n",
    "    err = np.mean(- y * np.log(p_) - (1.0 - y) * np.log(1.0 - p_))\n",
    "    return err"
   ]
  },
  {
   "cell_type": "code",
   "execution_count": 3,
   "metadata": {},
   "outputs": [
    {
     "data": {
      "text/plain": [
       "(9.992007221626415e-16, 0.6931471805599453, 34.53957599234088)"
      ]
     },
     "execution_count": 3,
     "metadata": {},
     "output_type": "execute_result"
    }
   ],
   "source": [
    "calc_logloss(0, 0), calc_logloss(0, 0.5), calc_logloss(0, 1)"
   ]
  },
  {
   "cell_type": "markdown",
   "metadata": {},
   "source": [
    "2. На данных из урока изучите влияние гиперпараметров на ошибку алгоритма."
   ]
  },
  {
   "cell_type": "code",
   "execution_count": 4,
   "metadata": {},
   "outputs": [
    {
     "data": {
      "text/plain": [
       "array([[1.00e+00, 1.00e+00, 5.00e+02, 2.10e+01],\n",
       "       [1.00e+00, 1.00e+00, 7.00e+02, 2.50e+01],\n",
       "       [1.00e+00, 2.00e+00, 7.50e+02, 2.70e+01],\n",
       "       [1.00e+00, 1.00e+00, 6.00e+02, 2.00e+01],\n",
       "       [1.00e+00, 3.00e+00, 1.45e+03, 2.50e+01],\n",
       "       [1.00e+00, 0.00e+00, 8.00e+02, 1.80e+01],\n",
       "       [1.00e+00, 5.00e+00, 1.50e+03, 3.50e+01],\n",
       "       [1.00e+00, 1.00e+01, 2.00e+03, 6.00e+01],\n",
       "       [1.00e+00, 1.00e+00, 4.50e+02, 2.00e+01],\n",
       "       [1.00e+00, 2.00e+00, 1.00e+03, 3.00e+01]])"
      ]
     },
     "execution_count": 4,
     "metadata": {},
     "output_type": "execute_result"
    }
   ],
   "source": [
    "X = np.array([[1, 1, 1, 1, 1, 1, 1, 1, 1, 1],\n",
    "              [1, 1, 2, 1, 3, 0, 5, 10, 1, 2],  # стаж репетитора\n",
    "              [500, 700, 750, 600, 1450,        # средняя стоимость занятия\n",
    "               800, 1500, 2000, 450, 1000],\n",
    "              [21, 25, 27, 20, 25, 18, 35, 60, 20, 30]],  # возраст репетитора\n",
    "              dtype = np.float64).T \n",
    "\n",
    "y = np.array([0, 0, 0, 1, 1, 1, 1, 0, 0, 0]) # подходит или нет репетитор\n",
    "\n",
    "X"
   ]
  },
  {
   "cell_type": "code",
   "execution_count": 5,
   "metadata": {},
   "outputs": [
    {
     "data": {
      "text/plain": [
       "array([[ 1.        , -0.57142857, -0.97958969, -0.60595294],\n",
       "       [ 1.        , -0.57142857, -0.56713087, -0.264571  ],\n",
       "       [ 1.        , -0.21428571, -0.46401617, -0.09388003],\n",
       "       [ 1.        , -0.57142857, -0.77336028, -0.69129842],\n",
       "       [ 1.        ,  0.14285714,  0.97958969, -0.264571  ],\n",
       "       [ 1.        , -0.92857143, -0.36090146, -0.86198939],\n",
       "       [ 1.        ,  0.85714286,  1.08270439,  0.58888384],\n",
       "       [ 1.        ,  2.64285714,  2.11385144,  2.72252095],\n",
       "       [ 1.        , -0.57142857, -1.08270439, -0.69129842],\n",
       "       [ 1.        , -0.21428571,  0.05155735,  0.16215642]])"
      ]
     },
     "execution_count": 5,
     "metadata": {},
     "output_type": "execute_result"
    }
   ],
   "source": [
    "def standardization(X):\n",
    "    \"\"\"стандартизация признаков\"\"\"\n",
    "    S = (X - X.mean(axis=0)) / X.std(axis=0)\n",
    "    return S\n",
    "\n",
    "X_st = X.copy()\n",
    "X_st[:, 1:] = standardization(X[:, 1:])\n",
    "X_st"
   ]
  },
  {
   "cell_type": "code",
   "execution_count": 6,
   "metadata": {},
   "outputs": [],
   "source": [
    "def sigmoid(z):\n",
    "    \"\"\"сигмоида\"\"\"\n",
    "    return 1 / (1 + np.exp(-z))"
   ]
  },
  {
   "cell_type": "code",
   "execution_count": 7,
   "metadata": {},
   "outputs": [],
   "source": [
    "def eval_LR_model(X, y, iterations, eta=1e-4):\n",
    "    \"\"\"логистическая регрессия\"\"\"\n",
    "    np.random.seed(42)\n",
    "    w = np.random.randn(X.shape[1])\n",
    "    n = X.shape[0]\n",
    "    errors = []\n",
    "    for i in range(1, iterations + 1):\n",
    "        z = np.dot(X, w) # log(p/(1-p))\n",
    "        pred = sigmoid(z) # p [0, 1]\n",
    "        w -= eta * (1/n * np.dot((pred - y), X))\n",
    "        err = calc_logloss(y, sigmoid(np.dot(X, w)))\n",
    "        if i % (iterations / 10) == 0:\n",
    "            print(i, w, err)\n",
    "        errors.append(err)\n",
    "    return w, errors"
   ]
  },
  {
   "cell_type": "code",
   "execution_count": 8,
   "metadata": {},
   "outputs": [
    {
     "name": "stdout",
     "output_type": "stream",
     "text": [
      "10 [ 0.36065583 -0.3972585   0.51937535  1.19161524] 0.972199021173242\n",
      "20 [ 0.215788   -0.61251766  0.44159174  0.90102578] 0.8152129340815597\n",
      "30 [ 0.08277136 -0.76559453  0.42551123  0.67107078] 0.7212678942568461\n",
      "40 [-0.02507329 -0.85541749  0.46585326  0.50463174] 0.6722796074198796\n",
      "50 [-0.10912684 -0.90576455  0.53830407  0.37884616] 0.6416699927595096\n",
      "60 [-0.17469927 -0.93640342  0.62421319  0.27424279] 0.6181685428656378\n",
      "70 [-0.22617113 -0.95733883  0.71436092  0.18090474] 0.5982903907109156\n",
      "80 [-0.26681997 -0.97319728  0.80460517  0.09421158] 0.5807656397146188\n",
      "90 [-0.29911987 -0.98614533  0.89312045  0.01196478] 0.5649873364632755\n",
      "100 [-0.32495521 -0.99723356  0.97913034 -0.06693668] 0.5506011060815837\n"
     ]
    }
   ],
   "source": [
    "w, _ = eval_LR_model(X_st, y, iterations=100, eta=0.1)"
   ]
  },
  {
   "cell_type": "code",
   "execution_count": 9,
   "metadata": {},
   "outputs": [
    {
     "name": "stderr",
     "output_type": "stream",
     "text": [
      "/usr/lib/python3/dist-packages/IPython/core/pylabtools.py:132: UserWarning: Creating legend with loc=\"best\" can be slow with large amounts of data.\n",
      "  fig.canvas.print_figure(bytes_io, **kw)\n"
     ]
    },
    {
     "data": {
      "image/png": "[encoded data removed]",
      "text/plain": [
       "<Figure size 720x360 with 1 Axes>"
      ]
     },
     "metadata": {
      "needs_background": "light"
     },
     "output_type": "display_data"
    }
   ],
   "source": [
    "iterations = 10**5+1\n",
    "\n",
    "fig = plt.figure()\n",
    "plt.xscale(\"log\")\n",
    "plt.xlim(1, iterations)\n",
    "plt.xlabel(\"Количество итераций\")\n",
    "plt.ylabel(\"Ошибка (logloss)\")\n",
    "plt.title(\"Влияние значений скорости обучения (eta) и количества итераций на ошибку алгоритма\")\n",
    "plt.grid()\n",
    "\n",
    "for i in (1, 2, 3, 4, 5):\n",
    "    eta = 10**(-i)\n",
    "    _, errors = eval_LR_model(X_st, y, iterations, eta)\n",
    "    plt.plot(errors, label=f\"{eta = }\")\n",
    "\n",
    "plt.legend()\n",
    "plt.show()"
   ]
  },
  {
   "cell_type": "markdown",
   "metadata": {},
   "source": [
    "3. Создайте функцию `calc_pred_proba`, возвращающую предсказанную вероятность класса \"1\". На вход функции подаются значения признаков Х и веса, которые уже посчитаны функцией `eval_LR_model`."
   ]
  },
  {
   "cell_type": "code",
   "execution_count": 10,
   "metadata": {},
   "outputs": [],
   "source": [
    "def calc_pred_proba(X, weights):\n",
    "    \"\"\"предсказанная вероятность класса '1'\"\"\"\n",
    "    return sigmoid(X @ weights)"
   ]
  },
  {
   "cell_type": "code",
   "execution_count": 11,
   "metadata": {},
   "outputs": [
    {
     "name": "stdout",
     "output_type": "stream",
     "text": [
      "prob = [0.34 0.43 0.36 0.39 0.62 0.58 0.46 0.25 0.32 0.48]\n"
     ]
    }
   ],
   "source": [
    "print('prob =', calc_pred_proba(X_st, w).round(2))"
   ]
  },
  {
   "cell_type": "markdown",
   "metadata": {},
   "source": [
    "4. Создайте функцию `calc_pred`, возвращающую предсказанные классы (0 или 1). На вход функции подаются значения признаков Х и веса, которые уже посчитаны функцией `eval_LR_model`, а также порог вероятности."
   ]
  },
  {
   "cell_type": "code",
   "execution_count": 12,
   "metadata": {},
   "outputs": [],
   "source": [
    "def calc_pred(X, weights, threshold):\n",
    "    \"\"\"предсказанные классы (0 или 1)\"\"\"\n",
    "    pred = calc_pred_proba(X, weights)\n",
    "    return np.where(pred > threshold, 1, 0)"
   ]
  },
  {
   "cell_type": "code",
   "execution_count": 13,
   "metadata": {},
   "outputs": [
    {
     "name": "stdout",
     "output_type": "stream",
     "text": [
      "true = [0 0 0 1 1 1 1 0 0 0]\n",
      "pred = [0 0 0 0 1 1 0 0 0 0]\n"
     ]
    }
   ],
   "source": [
    "print('true =', y)\n",
    "print('pred =', calc_pred(X_st, w, 0.5))"
   ]
  },
  {
   "cell_type": "markdown",
   "metadata": {},
   "source": [
    "5. (\\*) Напишите функции для расчёта accuracy, матрицы ошибок, precision и recall, а также F1-score."
   ]
  },
  {
   "cell_type": "code",
   "execution_count": 14,
   "metadata": {},
   "outputs": [],
   "source": [
    "def confusion_matrix(y_true: np.array, y_pred: np.array) -> np.array:\n",
    "    \"\"\"матрица ошибок\"\"\"\n",
    "    yt = y_true.astype(bool)\n",
    "    yp = y_pred.astype(bool)\n",
    "    TP = np.sum(yt & yp)\n",
    "    TN = np.sum(~yt & ~yp)\n",
    "    FP = np.sum(~yt & yp)\n",
    "    FN = np.sum(yt & ~yp)\n",
    "    return np.array([[TP, FP], [FN, TN]])\n",
    "\n",
    "\n",
    "def accuracy(y_true: np.array, y_pred: np.array) -> float:\n",
    "    \"\"\"верность\"\"\"\n",
    "    TP, FP, FN, TN = confusion_matrix(y_true, y_pred).flatten()\n",
    "    return (TP + TN) / (TP + TN + FP + FN)\n",
    "\n",
    "\n",
    "def precision(y_true: np.array, y_pred: np.array) -> float:\n",
    "    \"\"\"точность\"\"\"\n",
    "    TP, FP, FN, TN = confusion_matrix(y_true, y_pred).flatten()\n",
    "    return TP / (TP + FP)\n",
    "\n",
    "\n",
    "def recall(y_true: np.array, y_pred: np.array) -> float:\n",
    "    \"\"\"полнота\"\"\"\n",
    "    TP, FP, FN, TN = confusion_matrix(y_true, y_pred).flatten()\n",
    "    return TP / (TP + FN)\n",
    "\n",
    "\n",
    "def f1_score(y_true: np.array, y_pred: np.array) -> float:\n",
    "    \"\"\"F-мера\"\"\"\n",
    "    PPV = precision(y_true, y_pred)\n",
    "    TPR = recall(y_true, y_pred)\n",
    "    return 2 * (PPV * TPR) / (PPV + TPR)"
   ]
  },
  {
   "cell_type": "code",
   "execution_count": 15,
   "metadata": {},
   "outputs": [
    {
     "name": "stdout",
     "output_type": "stream",
     "text": [
      "[[2 0]\n",
      " [2 6]]\n",
      "accuracy =  0.8\n",
      "precision =  1.0\n",
      "recall =  0.5\n",
      "F1-score =  0.6666666666666666\n"
     ]
    }
   ],
   "source": [
    "y_ = calc_pred(X_st, w, 0.5)\n",
    "print(confusion_matrix(y, y_))\n",
    "print(\"accuracy = \", accuracy(y, y_))\n",
    "print(\"precision = \", precision(y, y_))\n",
    "print(\"recall = \", recall(y, y_))\n",
    "print(\"F1-score = \", f1_score(y, y_))"
   ]
  },
  {
   "cell_type": "code",
   "execution_count": 16,
   "metadata": {},
   "outputs": [
    {
     "name": "stdout",
     "output_type": "stream",
     "text": [
      "[[2 0]\n",
      " [2 6]]\n",
      "accuracy =  0.8\n",
      "precision =  1.0\n",
      "recall =  0.5\n",
      "F1-score =  0.6666666666666666\n"
     ]
    }
   ],
   "source": [
    "# проверка\n",
    "import sklearn.metrics as skm\n",
    "tn, fp, fn, tp = skm.confusion_matrix(y, y_).ravel()\n",
    "print(np.array([[tp, fp], [fn, tn]]))\n",
    "print(\"accuracy = \", skm.accuracy_score(y, y_))\n",
    "print(\"precision = \", skm.precision_score(y, y_))\n",
    "print(\"recall = \", skm.recall_score(y, y_))\n",
    "print(\"F1-score = \", skm.f1_score(y, y_))"
   ]
  },
  {
   "cell_type": "code",
   "execution_count": null,
   "metadata": {},
   "outputs": [],
   "source": []
  }
 ],
 "metadata": {
  "kernelspec": {
   "display_name": "Python 3",
   "language": "python",
   "name": "python3"
  },
  "language_info": {
   "codemirror_mode": {
    "name": "ipython",
    "version": 3
   },
   "file_extension": ".py",
   "mimetype": "text/x-python",
   "name": "python",
   "nbconvert_exporter": "python",
   "pygments_lexer": "ipython3",
   "version": "3.8.10"
  }
 },
 "nbformat": 4,
 "nbformat_minor": 4
}
